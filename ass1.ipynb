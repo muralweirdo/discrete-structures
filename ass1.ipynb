{
 "cells": [
  {
   "cell_type": "code",
   "execution_count": 102,
   "metadata": {},
   "outputs": [],
   "source": [
    "def negation(prop):\n",
    "    if prop[0] == '~':\n",
    "        return prop\n",
    "    else:\n",
    "        return '~' + prop[0]"
   ]
  },
  {
   "cell_type": "code",
   "execution_count": 103,
   "metadata": {},
   "outputs": [
    {
     "data": {
      "text/plain": [
       "'~q'"
      ]
     },
     "execution_count": 103,
     "metadata": {},
     "output_type": "execute_result"
    }
   ],
   "source": [
    "negation(\"~q\")"
   ]
  },
  {
   "cell_type": "code",
   "execution_count": 104,
   "metadata": {},
   "outputs": [],
   "source": [
    "def converse(proposition):\n",
    "    sign_index = proposition.find('->')\n",
    "    converse = proposition[sign_index+2:] + \"->\" + proposition[0:sign_index]\n",
    "    return converse"
   ]
  },
  {
   "cell_type": "code",
   "execution_count": 105,
   "metadata": {},
   "outputs": [
    {
     "data": {
      "text/plain": [
       "'q->~p'"
      ]
     },
     "execution_count": 105,
     "metadata": {},
     "output_type": "execute_result"
    }
   ],
   "source": [
    "converse(\"~p->q\")"
   ]
  },
  {
   "cell_type": "code",
   "execution_count": 106,
   "metadata": {},
   "outputs": [],
   "source": [
    "def contrapositive(proposition):\n",
    "    conversed = converse(proposition)\n",
    "    sign_index = conversed.find('->')\n",
    "    contrapositive = negation(conversed[0:sign_index]) + \"->\" + negation(conversed[sign_index+2:])\n",
    "    return contrapositive"
   ]
  },
  {
   "cell_type": "code",
   "execution_count": 107,
   "metadata": {},
   "outputs": [
    {
     "data": {
      "text/plain": [
       "'~q->~p'"
      ]
     },
     "execution_count": 107,
     "metadata": {},
     "output_type": "execute_result"
    }
   ],
   "source": [
    "contrapositive(\"~p->q\")"
   ]
  },
  {
   "cell_type": "code",
   "execution_count": 108,
   "metadata": {},
   "outputs": [],
   "source": [
    "def inverse(proposition):\n",
    "    sign_index = proposition.find('->')\n",
    "    inverse = negation(proposition[0:sign_index]) + \"->\" + negation(proposition[sign_index+2:])\n",
    "    return inverse"
   ]
  },
  {
   "cell_type": "code",
   "execution_count": 109,
   "metadata": {},
   "outputs": [
    {
     "data": {
      "text/plain": [
       "'~p->~q'"
      ]
     },
     "execution_count": 109,
     "metadata": {},
     "output_type": "execute_result"
    }
   ],
   "source": [
    "inverse(\"~p->q\")"
   ]
  },
  {
   "cell_type": "code",
   "execution_count": 110,
   "metadata": {},
   "outputs": [],
   "source": [
    "def final(proposition, types):\n",
    "    if proposition[proposition.find('-')+1] is not '>' or proposition[proposition.find('>')-1] is not '-':\n",
    "        raise TypeError(\"proposition not valid\")\n",
    "        return\n",
    "    if types == \"inverse\":\n",
    "        print(\"converse:\", converse(proposition))\n",
    "        print(\"contrapositive:\", contrapositive(proposition))\n",
    "        print(\"original implication:\", inverse(proposition))\n",
    "    if types == \"converse\":\n",
    "        print(\"original implication:\", converse(proposition))\n",
    "        print(\"contrapositive:\", contrapositive(proposition))\n",
    "        print(\"inverse:\", inverse(proposition))\n",
    "    if types == \"contrapositive\":\n",
    "        print(\"converse:\", converse(proposition))\n",
    "        print(\"original implication:\", contrapositive(proposition))\n",
    "        print(\"inverse:\", inverse(proposition))\n",
    "    if types == \"implication\":\n",
    "        print(\"converse:\", converse(proposition))\n",
    "        print(\"contrapositive:\", contrapositive(proposition))\n",
    "        print(\"inverse:\", inverse(proposition))"
   ]
  },
  {
   "cell_type": "code",
   "execution_count": 111,
   "metadata": {},
   "outputs": [
    {
     "name": "stdout",
     "output_type": "stream",
     "text": [
      "original implication: q->~p\n",
      "contrapositive: ~q->~p\n",
      "inverse: ~p->~q\n"
     ]
    }
   ],
   "source": [
    "final(\"~p->q\", \"converse\")"
   ]
  },
  {
   "cell_type": "code",
   "execution_count": null,
   "metadata": {},
   "outputs": [],
   "source": []
  },
  {
   "cell_type": "code",
   "execution_count": null,
   "metadata": {},
   "outputs": [],
   "source": []
  }
 ],
 "metadata": {
  "kernelspec": {
   "display_name": "Python 3",
   "language": "python",
   "name": "python3"
  },
  "language_info": {
   "codemirror_mode": {
    "name": "ipython",
    "version": 3
   },
   "file_extension": ".py",
   "mimetype": "text/x-python",
   "name": "python",
   "nbconvert_exporter": "python",
   "pygments_lexer": "ipython3",
   "version": "3.7.3"
  }
 },
 "nbformat": 4,
 "nbformat_minor": 2
}
